{
  "nbformat": 4,
  "nbformat_minor": 0,
  "metadata": {
    "colab": {
      "provenance": [],
      "toc_visible": true
    },
    "kernelspec": {
      "name": "python3",
      "display_name": "Python 3"
    },
    "language_info": {
      "name": "python"
    }
  },
  "cells": [
    {
      "cell_type": "code",
      "source": [
        "!pip install faker"
      ],
      "metadata": {
        "colab": {
          "base_uri": "https://localhost:8080/"
        },
        "id": "dDnqTnygHCgg",
        "outputId": "8bb1c10c-1553-4bcd-e842-696b87261ac6"
      },
      "execution_count": 1,
      "outputs": [
        {
          "output_type": "stream",
          "name": "stdout",
          "text": [
            "Looking in indexes: https://pypi.org/simple, https://us-python.pkg.dev/colab-wheels/public/simple/\n",
            "Collecting faker\n",
            "  Downloading Faker-18.7.0-py3-none-any.whl (1.7 MB)\n",
            "\u001b[2K     \u001b[90m━━━━━━━━━━━━━━━━━━━━━━━━━━━━━━━━━━━━━━━━\u001b[0m \u001b[32m1.7/1.7 MB\u001b[0m \u001b[31m15.2 MB/s\u001b[0m eta \u001b[36m0:00:00\u001b[0m\n",
            "\u001b[?25hRequirement already satisfied: python-dateutil>=2.4 in /usr/local/lib/python3.10/dist-packages (from faker) (2.8.2)\n",
            "Requirement already satisfied: six>=1.5 in /usr/local/lib/python3.10/dist-packages (from python-dateutil>=2.4->faker) (1.16.0)\n",
            "Installing collected packages: faker\n",
            "Successfully installed faker-18.7.0\n"
          ]
        }
      ]
    },
    {
      "cell_type": "code",
      "source": [
        "!pip install xlrd"
      ],
      "metadata": {
        "colab": {
          "base_uri": "https://localhost:8080/"
        },
        "id": "lbbDhB1eM3Cb",
        "outputId": "b7d6918e-a574-4cfd-d5d0-a514455136f8"
      },
      "execution_count": 2,
      "outputs": [
        {
          "output_type": "stream",
          "name": "stdout",
          "text": [
            "Looking in indexes: https://pypi.org/simple, https://us-python.pkg.dev/colab-wheels/public/simple/\n",
            "Requirement already satisfied: xlrd in /usr/local/lib/python3.10/dist-packages (2.0.1)\n"
          ]
        }
      ]
    },
    {
      "cell_type": "code",
      "execution_count": 3,
      "metadata": {
        "id": "DIqe4-a6Wlcy"
      },
      "outputs": [],
      "source": [
        "from faker import Faker\n",
        "import random\n",
        "import numpy as np\n",
        "import xlrd\n",
        "faker = Faker()"
      ]
    },
    {
      "cell_type": "code",
      "source": [
        "workbook = xlrd.open_workbook(\"hotel_data.xls\")\n",
        "worksheet = workbook.sheet_by_index(0)"
      ],
      "metadata": {
        "id": "NRUyLJQzNARg"
      },
      "execution_count": 28,
      "outputs": []
    },
    {
      "cell_type": "code",
      "source": [
        "country = \"\"\n",
        "j = 4\n",
        "for i in range(1, 166):\n",
        "    if country != worksheet.cell_value(i, j):\n",
        "      print(\"INSERT INTO bk.country(name) VALUES('\" + worksheet.cell_value(i, j)+ \"');\")\n",
        "      country = worksheet.cell_value(i, j)"
      ],
      "metadata": {
        "id": "uqwd6bLzOxoI"
      },
      "execution_count": null,
      "outputs": []
    },
    {
      "cell_type": "code",
      "source": [
        "city = \"\"\n",
        "jcity = 2\n",
        "jcountry_id = 5 \n",
        "for i in range(1, 166):\n",
        "    if city != worksheet.cell_value(i, jcity):\n",
        "      print(\"INSERT INTO bk.city(name, country_id) VALUES('\" + worksheet.cell_value(i, jcity) + \"',\" + str(int(worksheet.cell_value(i, int(jcountry_id)))) + \");\")\n",
        "      city = worksheet.cell_value(i, jcity)"
      ],
      "metadata": {
        "id": "_so8X-PKP3ci"
      },
      "execution_count": null,
      "outputs": []
    },
    {
      "cell_type": "code",
      "source": [
        "jhotel_name = 3\n",
        "jcity = 1\n",
        "for i in range(1, 166):\n",
        "    print(\"INSERT INTO bk.hotel (name, region, street, house, number_of_stars, geolocation, pledge, owner_id, city_id)\")\n",
        "    print(\"VALUES (\" + \"'\" + worksheet.cell_value(i, jhotel_name)+  \"' ,\"\n",
        "                 + \"'\"  + faker.administrative_unit()  + \"', \" + \"'\" + faker.street_name() + \"', \"+ \n",
        "                 \"'\" + faker.building_number() + \"', \" + str(random.randint(1, 5)) + \", \" +\n",
        "                 \"'\" + str(faker.latitude()) + ' ' + str(faker.longitude()) + \"', \" \n",
        "                  + str(random.uniform(0 , 100)) + \", \" + str(random.randint(1, 50)) + \", \"\n",
        "                   + str(int(worksheet.cell_value(i, jcity)))+ \");\")"
      ],
      "metadata": {
        "id": "BNxce3CVOmXY"
      },
      "execution_count": null,
      "outputs": []
    },
    {
      "cell_type": "code",
      "source": [
        "#bk.user\n",
        "for i in range(100):\n",
        "  print(\"INSERT INTO bk.user ( first_name, second_name, gender, mail, login, password, date_of_birth)\")\n",
        "  print(\"VALUES(\", \"'\"+faker.first_name()+\"'\",',',\"'\"+faker.last_name()+\"'\",',', \"'\"+(np.random.choice([\"male\", \"female\"], p=[0.5, 0.5]))+\"'\",',',\"'\"+faker.email()+\"'\",\n",
        "        ',',\"'\"+faker.user_name()+\"'\", ',',\n",
        "        \"'\"+faker.password()+\"'\",',' \"'\"+str(faker.date_of_birth(minimum_age = 19))+\"'\",\");\")\n",
        "  print()"
      ],
      "metadata": {
        "id": "gkd1-OM3bh0K"
      },
      "execution_count": null,
      "outputs": []
    },
    {
      "cell_type": "code",
      "source": [
        "#bc.country\n",
        "for i in range(40):\n",
        "  print(\"INSERT INTO bk.country ( name)\")\n",
        "  print(\"VALUES( '\" + faker.country() + \"'\"+\");\")"
      ],
      "metadata": {
        "id": "TfZJq_zurrsM"
      },
      "execution_count": null,
      "outputs": []
    },
    {
      "cell_type": "code",
      "source": [
        "#bk.city\n",
        "import random\n",
        "for i in range(100):\n",
        "  print(\"INSERT INTO bk.city (name, country_id)\")\n",
        "  print(\"VALUES( '\" + faker.city() + \"'\"+\", \"+ str(random.randint(1, 40))+\");\")"
      ],
      "metadata": {
        "id": "-jxdB1-btM_Q"
      },
      "execution_count": null,
      "outputs": []
    },
    {
      "cell_type": "code",
      "source": [
        "workbook = xlrd.open_workbook(\"/content/facilities.xls\")\n",
        "worksheet = workbook.sheet_by_index(0)"
      ],
      "metadata": {
        "id": "mYPD61pJtfl3"
      },
      "execution_count": 10,
      "outputs": []
    },
    {
      "cell_type": "code",
      "source": [
        "#bk.hotel\n",
        "import random\n",
        "mas = [\"Resort & Spa\", \"Hotel\", \"Supreme Palace Hotel\"]\n",
        "for i in range(50):\n",
        "  print(\"INSERT INTO bk.hotel (name, region, street, house, number_of_stars, rating, geolocation, need_for_previous_payment, owner_id, city_id)\")\n",
        "  print(\"VALUES (\" + \"'\" + faker.first_name()+ ' ' + (np.random.choice(mas)) + \"' ,\" +\n",
        "                 \"'\"  + faker.administrative_unit()  + \"', \" + \"'\" + faker.street_name() + \"', \"+ \n",
        "                 \"'\" + faker.building_number() + \"', \" + str(random.randint(1, 5)) + \", \" + str(random.uniform( 0 , 10)) + \", \"\n",
        "                 \"'\" + str(faker.latitude()) + ' ' + str(faker.longitude()) + \"', \" \n",
        "                  + str(random.uniform(0 , 100)) + \", \" + str(random.randint(1, 50)) + \", \" + str(random.randint(1, 100)) +      \n",
        "        \");\")"
      ],
      "metadata": {
        "id": "dHppFiCC2EVP"
      },
      "execution_count": null,
      "outputs": []
    },
    {
      "cell_type": "code",
      "source": [
        "#bk.booking_history\n",
        "from datetime import datetime as dt\n",
        "\n",
        "year = [2020, 2021, 2019, 2017, 2018]\n",
        "month = [1, 2, 3, 4, 5, 6,7, 8, 9, 10, 11, 12]\n",
        "day = [1, 2, 3, 4, 5, 6, 7, 8, 9, 10, 11, 12, 13, 14, 15, 16, 17, 18, 19, 20]\n",
        "delta = [2, 5, 6, 7, 8]\n",
        "for i in range(50):\n",
        "  some= str(random.choice(year)) + '-' + str(random.choice(month)) + '-'\n",
        "  day1 = random.choice(day)\n",
        "  print(\"INSERT INTO bk.booking (check_in_date, check_out_date, user_id, room_id, price)\")\n",
        "  print(\"VALUES (\" + \"'\"+ some + str(day1) + \"', \" + \"'\" + some + str(day1 + random.choice(delta)) + \"', \" \n",
        "                 + str(random.randint(1, 103)) + \", \" + str(random.randint(97, 239))\n",
        "                 + \", \" + str(random.randint(10, 100)) + \");\")"
      ],
      "metadata": {
        "id": "viLrGYLlY_dj"
      },
      "execution_count": null,
      "outputs": []
    },
    {
      "cell_type": "code",
      "source": [
        "#bk.review\n",
        "for i in range(100):\n",
        "  rating = random.randint(1, 10)\n",
        "  description =\"'\" + faker.text(30) + \"'\"\n",
        "  user_id = random.randint(1, 103)\n",
        "  booking_id = random.randint(51, 100)\n",
        "  print(\"INSERT INTO bk.review (mark, description, user_id, booking_id)\")\n",
        "  print(\"VALUES(\" + str(rating)+ \",\" + description + \", \" + str(user_id) +\", \" + str(booking_id) + \n",
        "        \");\")"
      ],
      "metadata": {
        "id": "bBOOqGdlrNqM"
      },
      "execution_count": null,
      "outputs": []
    },
    {
      "cell_type": "code",
      "source": [
        "facilities_of_hotel = []\n",
        "j = 0\n",
        "for i in range(1, 16):\n",
        "  facilities_of_hotel.append(str(worksheet.cell_value(i, j)))"
      ],
      "metadata": {
        "id": "_7XhASWQvv8l"
      },
      "execution_count": 14,
      "outputs": []
    },
    {
      "cell_type": "code",
      "source": [
        "facilities_of_room = []\n",
        "j = 1\n",
        "for i in range(1, 26):\n",
        "  facilities_of_room.append(str(worksheet.cell_value(i, j)))"
      ],
      "metadata": {
        "id": "NL-93T8XwDP0"
      },
      "execution_count": 15,
      "outputs": []
    },
    {
      "cell_type": "code",
      "source": [
        "service = []\n",
        "j = 2\n",
        "for i in range(1, 5):\n",
        "  service.append(str(worksheet.cell_value(i, j)))"
      ],
      "metadata": {
        "id": "eIPugg__wOMF"
      },
      "execution_count": 16,
      "outputs": []
    },
    {
      "cell_type": "code",
      "source": [
        "#bk.facilities_of_hotel\n",
        "for i in range(100):\n",
        "  hotel = str(random.randint(331, 394))\n",
        "  for j in range(5):\n",
        "    print(\"INSERT INTO bk.facilities_of_hotel (description, hotel_id, name)\")\n",
        "    print(\"VALUES(\" + \"'\" + faker.text(30) + \"', \" + hotel + \", '\" + facilities_of_hotel[random.randint(0, 14)] + \"');\")\n"
      ],
      "metadata": {
        "id": "CHr9OctJu_3b"
      },
      "execution_count": null,
      "outputs": []
    },
    {
      "cell_type": "code",
      "source": [
        "#bk.service\n",
        "for i in range(20):\n",
        "  hotel = str(random.randint(331, 394))\n",
        "  number = random.randint(1,5)\n",
        "  for j in range(number):\n",
        "    print(\"INSERT INTO bk.service (price, description, hotel_id, name)\")\n",
        "    print(\"VALUES(\"  + str(random.randint(1, 100)) +\", \"+\"'\"+ faker.text(30) + \"', \" + hotel + \",'\" + service[random.randint(0, 3)] + \"');\")\n"
      ],
      "metadata": {
        "id": "Drur9X2Ly-FB"
      },
      "execution_count": null,
      "outputs": []
    },
    {
      "cell_type": "code",
      "source": [
        "#bk.room\n",
        "for i in range(331, 394):\n",
        "  n = random.randint(1, 4)\n",
        "  for j in range(1, n):\n",
        "    k = random.randint(1, 4)\n",
        "    for c in range(1, k):\n",
        "      print(\"INSERT INTO bk.room (level, number_of_room, number_of_seats, standard_price, hotel_id)\")\n",
        "      print(\"VALUES(\"+ str(j) +\", \" + \"'\" + str(c)+ \"', \" + str(random.randint(1, 4))+ \", \"+ str(random.randint(1, 100))+\", \" + str(i) +\");\")"
      ],
      "metadata": {
        "id": "D6tIWpIr1Hd5"
      },
      "execution_count": null,
      "outputs": []
    },
    {
      "cell_type": "code",
      "source": [
        "#bk.facilities_of_room\n",
        "for i in range(100):\n",
        "  room = str(random.randint(1, 50))\n",
        "  for j in range(5):\n",
        "    print(\"INSERT INTO bk.facilities_of_room (description, room_id, name)\")\n",
        "    print(\"VALUES(\" + \"'\" + faker.text(30) + \"', \" + room + \",' \" + facilities_of_room[random.randint(0, 24)] + \"');\")\n"
      ],
      "metadata": {
        "id": "ayIJPIJV5c1r"
      },
      "execution_count": null,
      "outputs": []
    },
    {
      "cell_type": "code",
      "source": [
        "#bk.reserved\n",
        "year = [2024, 2023]\n",
        "month = [1, 2, 3, 4, 5, 6,7, 8, 9, 10, 11, 12]\n",
        "day = [1, 2, 3, 4, 5, 6, 7, 8, 9, 10, 11, 12, 13, 14, 15, 16, 17, 18, 19, 20]\n",
        "delta = [2, 5, 6, 7, 8]\n",
        "for i in range(50):\n",
        "  some= str(random.choice(year)) + '-' + str(random.choice(month)) + '-'\n",
        "  day1 = random.choice(day)\n",
        "  print(\"INSERT INTO bk.reserved (check_in_date, check_out_date, sale, flag, room_id ,user_id)\")\n",
        "  print(\"VALUES (\" + \"'\"+ some + str(day1) + \"', \" + \"'\" + some + str(day1 + random.choice(delta)) + \"', \" \n",
        "                  + str(random.randint(0, 99)) + \", \" + random.choice([\"TRUE\", \"FALSE\"]) + \", \" + str(random.randint(1, 122)) + \", \" + str(random.randint(1, 103))\n",
        "          + \");\")"
      ],
      "metadata": {
        "id": "He3TdbDO6a51"
      },
      "execution_count": null,
      "outputs": []
    },
    {
      "cell_type": "code",
      "source": [
        "from html.parser import HTMLParser\n",
        "import re\n",
        "from urllib.request import urlopen\n",
        "import glob\n",
        "    \n",
        "your_hotel_adres=\"http://www.booking.com/hotel/ua/boutique-hotel-kavalier.ru.html\"\n",
        " \n",
        "your_hotel_сс1=your_hotel_adres[29:31] \n",
        "your_hotel_pagename=''\n",
        "i = 30\n",
        "while i <= len(your_hotel_adres):\n",
        "    i = i + 1\n",
        "    if your_hotel_adres[i:i+5] == \".html\":\n",
        "        your_hotel_pagename=your_hotel_adres[32:i-3]\n",
        "        break\n",
        " \n",
        "your_hotel_comm=\"http://www.booking.com/reviewlist.ru.html?pagename=\"+your_hotel_pagename+\";cc1=\"+your_hotel_сс1+\";type=total;dist=1;offset=0;rows=1000\"\n",
        "\n",
        "f = urlopen(\"http://www.booking.com/hotel/ua/boutique-hotel-kavalier.ru.html?aid=376376;label=bookings-name-5gy*lylc*Nmw3Sz2PON2wAS40118153959%3Apl%3Ata%3Ap1%3Ap2540%2C000%3Aac%3Aap1t1%3Aneg;sid=273c8b2e53d546a8cf027f8b48081b55;dcid=4;checkin=2014-10-10;checkout=2014-10-11;ucfs=1;srfid=41142156e6bd6d0933de7231f725a7f1ef53f182X3;highlight_room=#tab-reviews\")\n"
      ],
      "metadata": {
        "id": "N-nHsqaX_ItW"
      },
      "execution_count": null,
      "outputs": []
    }
  ]
}