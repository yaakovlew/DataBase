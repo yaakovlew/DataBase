{
  "nbformat": 4,
  "nbformat_minor": 0,
  "metadata": {
    "colab": {
      "provenance": []
    },
    "kernelspec": {
      "name": "python3",
      "display_name": "Python 3"
    },
    "language_info": {
      "name": "python"
    }
  },
  "cells": [
    {
      "cell_type": "code",
      "source": [
        "!pip install faker"
      ],
      "metadata": {
        "colab": {
          "base_uri": "https://localhost:8080/"
        },
        "id": "XvU6pOQMMKNc",
        "outputId": "410caedc-2eff-486c-95ab-90df5b65b3c3"
      },
      "execution_count": 64,
      "outputs": [
        {
          "output_type": "stream",
          "name": "stdout",
          "text": [
            "Looking in indexes: https://pypi.org/simple, https://us-python.pkg.dev/colab-wheels/public/simple/\n",
            "Collecting faker\n",
            "  Downloading Faker-18.7.0-py3-none-any.whl (1.7 MB)\n",
            "\u001b[2K     \u001b[90m━━━━━━━━━━━━━━━━━━━━━━━━━━━━━━━━━━━━━━━━\u001b[0m \u001b[32m1.7/1.7 MB\u001b[0m \u001b[31m23.7 MB/s\u001b[0m eta \u001b[36m0:00:00\u001b[0m\n",
            "\u001b[?25hRequirement already satisfied: python-dateutil>=2.4 in /usr/local/lib/python3.10/dist-packages (from faker) (2.8.2)\n",
            "Requirement already satisfied: six>=1.5 in /usr/local/lib/python3.10/dist-packages (from python-dateutil>=2.4->faker) (1.16.0)\n",
            "Installing collected packages: faker\n",
            "Successfully installed faker-18.7.0\n"
          ]
        }
      ]
    },
    {
      "cell_type": "code",
      "source": [
        "import requests\n",
        "from bs4 import BeautifulSoup\n",
        "import re\n",
        "\n",
        "# Initialize search parameters\n",
        "headers = {\n",
        "    \"User-Agent\": \"Mozilla/5.0 (Windows NT 10.0; Win64; x64) AppleWebKit/537.36 (KHTML, like Gecko) Chrome/62.0.3202.94 Safari/537.36\",\n",
        "    \"Connection\": \"keep-alive\",\n",
        "}\n",
        "destination = \"paris\"\n",
        "checkIn = \"2023-03-16\"\n",
        "checkOut = \"2023-03-18\"\n",
        "adultsNum = \"2\"\n",
        "roomsNum = \"1\"\n",
        "firstParam = \"?\"\n",
        "#url = \"https://www.booking.com/searchresults.es.html?ss=londres&checkin=2023-02-16&checkout=2023-02-18&group_adults=2&no_rooms=1&order=price\"\n",
        "url = \"https://www.booking.com/searchresults.es.html\"\n",
        "\n",
        "# Generate the url\n",
        "if destination: \n",
        "    url += firstParam + \"ss=\" + destination\n",
        "    firstParam = \"&\"\n",
        "\n",
        "if checkIn: \n",
        "    url += firstParam + \"checkin=\" + checkIn\n",
        "    firstParam = \"&\"\n",
        "\n",
        "if checkOut: \n",
        "    url += firstParam + \"checkout=\" + checkOut\n",
        "    firstParam = \"&\"\n",
        "\n",
        "if adultsNum: \n",
        "    url += firstParam + \"group_adults=\" + adultsNum\n",
        "    firstParam = \"&\"\n",
        "\n",
        "if roomsNum: \n",
        "    url += firstParam + \"no_rooms=\" + roomsNum\n",
        "    firstParam = \"&\"\n",
        "\n",
        "url += firstParam + \"order=price\"\n",
        "\n",
        "print(url)\n",
        "\n",
        "# Search the results and scrap the information\n",
        "r = requests.get(url, headers=headers)\n",
        "soup = BeautifulSoup(r.text, 'lxml')\n",
        "\n",
        "blocksName = soup.find_all(\"div\", {\"class\": \"fcab3ed991 a23c043802\"})\n",
        "blocksLink = soup.find_all(\"a\", {\"data-testid\": \"title-link\"})\n",
        "blocksAddress = soup.find_all(\"span\", {\"data-testid\": \"address\"})\n",
        "blocksDistanceFromCenter = soup.find_all(\"span\", {\"data-testid\": \"distance\"})\n",
        "blocksPuntuation = soup.find_all(\"div\", {\"class\": \"b5cd09854e d10a6220b4\"})\n",
        "blocksPrice = soup.find_all(\"span\", {\"data-testid\": \"price-and-discounted-price\"})\n",
        "\n",
        "hotels = []\n",
        "\n",
        "# Extract the important data and save it\n",
        "for name in blocksName:\n",
        "    dict = {\"name\":re.search('>(.*)<', str(name)).group(1)}\n",
        "    hotels.append(dict)\n",
        "\n",
        "i = 0\n",
        "for link in blocksLink:\n",
        "    hasLink = re.search('href=\"(.*)\" rel=', str(link)).group(1)\n",
        "    if hasLink:\n",
        "        hotels[i][\"link\"] = hasLink\n",
        "        i += 1\n",
        "\n",
        "i = 0\n",
        "for address in blocksAddress:\n",
        "    hasAddress = re.search('>(.*)<', str(address)).group(1)\n",
        "    if hasAddress:\n",
        "        hotels[i][\"address\"] = hasAddress\n",
        "        i += 1\n",
        "\n",
        "i = 0\n",
        "for distance in blocksDistanceFromCenter:\n",
        "    hasDistance = re.search('>(.*)<', str(distance)).group(1)\n",
        "    if hasDistance:\n",
        "        hotels[i][\"distanceFromCenter\"] = hasDistance\n",
        "        i += 1\n",
        "\n",
        "i = 0\n",
        "for puntuation in blocksPuntuation:\n",
        "    hasPuntuation = re.search('>(.*)<', str(puntuation)).group(1)\n",
        "    if hasPuntuation:\n",
        "        hotels[i][\"puntuation\"] = hasPuntuation\n",
        "        i += 1\n",
        "\n",
        "i = 0\n",
        "for price in blocksPrice:\n",
        "    hasPrice = re.search('>(.*)<', str(price)).group(1).replace(\"€\\xa0\", \"\")\n",
        "    if hasPrice:\n",
        "        hotels[i][\"price\"] = hasPrice\n",
        "        i += 1\n",
        "\n"
      ],
      "metadata": {
        "id": "qPhykS7wMH7h"
      },
      "execution_count": null,
      "outputs": []
    },
    {
      "cell_type": "code",
      "source": [
        "for i in hotels:\n",
        "  print (i)"
      ],
      "metadata": {
        "id": "dcYmfpzdSO70"
      },
      "execution_count": null,
      "outputs": []
    },
    {
      "cell_type": "code",
      "source": [
        "from faker import Faker\n",
        "import random\n",
        "import numpy as np\n",
        "faker = Faker()"
      ],
      "metadata": {
        "id": "MijpFpiQS3Bg"
      },
      "execution_count": 67,
      "outputs": []
    },
    {
      "cell_type": "code",
      "source": [
        "for i in hotels:\n",
        "    print(\"INSERT INTO bk.hotel (name, region, street, house, number_of_stars, geolocation, pledge, owner_id, city_id)\")\n",
        "    print(\"VALUES (\" + \"'\" + i[\"name\"]+  \"' ,\"\n",
        "                 + \"'\"  + faker.administrative_unit()  + \"', \" + \"'\" + str(i['address'])[:str(i).find(\",\") - 1] + \"', \"+ \n",
        "                 \"'\" + faker.building_number() + \"', \" + str(random.randint(1, 5)) + \", \" +\n",
        "                 \"'\" + str(faker.latitude()) + ' ' + str(faker.longitude()) + \"', \" \n",
        "                  + str(random.uniform(0 , 100)) + \", \" + str(random.randint(1, 50)) + \", \"\n",
        "                   + str(random.randint(1, 100))+ \");\")"
      ],
      "metadata": {
        "id": "gTDhbrUHMIh-"
      },
      "execution_count": null,
      "outputs": []
    }
  ]
}