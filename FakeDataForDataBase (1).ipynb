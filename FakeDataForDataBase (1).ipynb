{
  "nbformat": 4,
  "nbformat_minor": 0,
  "metadata": {
    "colab": {
      "provenance": [],
      "collapsed_sections": []
    },
    "kernelspec": {
      "name": "python3",
      "display_name": "Python 3"
    },
    "language_info": {
      "name": "python"
    }
  },
  "cells": [
    {
      "cell_type": "code",
      "source": [
        "!pip install faker"
      ],
      "metadata": {
        "colab": {
          "base_uri": "https://localhost:8080/"
        },
        "id": "dDnqTnygHCgg",
        "outputId": "c5f5789d-d179-43b0-ab0f-51a60c4beda7"
      },
      "execution_count": null,
      "outputs": [
        {
          "output_type": "stream",
          "name": "stdout",
          "text": [
            "Looking in indexes: https://pypi.org/simple, https://us-python.pkg.dev/colab-wheels/public/simple/\n",
            "Requirement already satisfied: faker in /usr/local/lib/python3.7/dist-packages (15.3.1)\n",
            "Requirement already satisfied: typing-extensions>=3.10.0.1 in /usr/local/lib/python3.7/dist-packages (from faker) (4.1.1)\n",
            "Requirement already satisfied: python-dateutil>=2.4 in /usr/local/lib/python3.7/dist-packages (from faker) (2.8.2)\n",
            "Requirement already satisfied: six>=1.5 in /usr/local/lib/python3.7/dist-packages (from python-dateutil>=2.4->faker) (1.15.0)\n"
          ]
        }
      ]
    },
    {
      "cell_type": "code",
      "execution_count": null,
      "metadata": {
        "id": "DIqe4-a6Wlcy"
      },
      "outputs": [],
      "source": [
        "from faker import Faker\n",
        "import numpy as np\n",
        "faker = Faker()"
      ]
    },
    {
      "cell_type": "code",
      "source": [
        "#bk.user\n",
        "for i in range(100):\n",
        "  print(\"INSERT INTO bk.user ( name, second_name, gender, mail, username, password, date_of_birth)\")\n",
        "  print(\"VALUES(\", \"'\"+faker.first_name()+\"'\",',',\"'\"+faker.last_name()+\"'\",',', \"'\"+(np.random.choice([\"male\", \"female\"], p=[0.5, 0.5]))+\"'\",',',\"'\"+faker.email()+\"'\",\n",
        "        ',',\"'\"+faker.user_name()+\"'\", ',',\n",
        "        \"'\"+faker.password()+\"'\",',' \"'\"+str(faker.date_of_birth(minimum_age = 19))+\"'\",\");\")\n",
        "  print()"
      ],
      "metadata": {
        "id": "gkd1-OM3bh0K"
      },
      "execution_count": null,
      "outputs": []
    },
    {
      "cell_type": "code",
      "source": [
        "#bc.country\n",
        "for i in range(40):\n",
        "  print(\"INSERT INTO bk.country ( name)\")\n",
        "  print(\"VALUES( '\" + faker.country() + \"'\"+\");\")"
      ],
      "metadata": {
        "id": "TfZJq_zurrsM"
      },
      "execution_count": null,
      "outputs": []
    },
    {
      "cell_type": "code",
      "source": [
        "#bk.city\n",
        "import random\n",
        "for i in range(100):\n",
        "  print(\"INSERT INTO bk.city (name, country_id)\")\n",
        "  print(\"VALUES( '\" + faker.city() + \"'\"+\", \"+ str(random.randint(1, 40))+\");\")"
      ],
      "metadata": {
        "id": "-jxdB1-btM_Q"
      },
      "execution_count": null,
      "outputs": []
    },
    {
      "cell_type": "code",
      "source": [
        "#bk.owner\n",
        "for i in range(50):\n",
        "  print(\"INSERT INTO bk.owner ( name, second_name, gender, mail, username, password, date_of_birth)\")\n",
        "  print(\"VALUES(\", \"'\"+faker.first_name()+\"'\",',',\"'\"+faker.last_name()+\"'\",',', \"'\"+(np.random.choice([\"male\", \"female\"], p=[0.5, 0.5]))+\"'\",',',\"'\"+fake.email()+\"'\",\n",
        "        ',',\"'\"+faker.user_name()+\"'\", ',',\n",
        "        \"'\"+faker.password()+\"'\",',' \"'\"+str(faker.date_of_birth(minimum_age = 19))+\"'\",\");\")\n"
      ],
      "metadata": {
        "id": "Jkl2yWVwugbB"
      },
      "execution_count": null,
      "outputs": []
    },
    {
      "cell_type": "code",
      "source": [
        "#bk.type_facilities_of_hotel\n",
        "mas = [\"'free parking'\", \"'swimming pool'\", \"'sauna'\", \"'fitness'\", \"'medicine'\", \"'animation'\", \"'free transfer from airport'\"]\n",
        "for i in mas:\n",
        "  print(\"INSERT INTO bk.type_facilities_of_hotel (name)\")\n",
        "  print(\"VALUES(\" + i +\");\")"
      ],
      "metadata": {
        "id": "YsPm5oXdu85a"
      },
      "execution_count": null,
      "outputs": []
    },
    {
      "cell_type": "code",
      "source": [
        "#bk.type_service\n",
        "mas = [\"'rent transport'\", \"'massage'\", \"'rent boosted wifi'\", \"'fitness coach'\", \"'rent of banquet halls'\", \"'sightseeing tour'\", \"'beauty and wellness treatments'\"]\n",
        "for i in mas:\n",
        "  print(\"INSERT INTO bk.type_service (name)\")\n",
        "  print(\"VALUES(\" + i +\");\")"
      ],
      "metadata": {
        "id": "OJRGvFcHy3JA"
      },
      "execution_count": null,
      "outputs": []
    },
    {
      "cell_type": "code",
      "source": [
        "#bk.type_facilities_of_room\n",
        "mas = [\"'daily housekeeping'\", \"'TV'\", \"'balcon'\", \"'shower'\", \"'double bed'\", \"'single bed'\", \"'set of towels'\", \"'wash set'\",\n",
        "       \"'cupboard'\", \"'safe'\"]\n",
        "for i in mas:\n",
        "  print(\"INSERT INTO bk.type_facilities_of_room (name)\")\n",
        "  print(\"VALUES(\" + i +\");\")"
      ],
      "metadata": {
        "id": "4k_TYS9q0jVN"
      },
      "execution_count": null,
      "outputs": []
    },
    {
      "cell_type": "code",
      "source": [
        "#bk.hotel\n",
        "import random\n",
        "mas = [\"Resort & Spa\", \"Hotel\", \"Supreme Palace Hotel\"]\n",
        "for i in range(50):\n",
        "  print(\"INSERT INTO bk.hotel (name, region, street, house, number_of_stars, rating, geolocation, need_for_previous_payment, owner_id, city_id)\")\n",
        "  print(\"VALUES (\" + \"'\" + faker.first_name()+ ' ' + (np.random.choice(mas)) + \"' ,\" +\n",
        "                 \"'\"  + faker.administrative_unit()  + \"', \" + \"'\" + faker.street_name() + \"', \"+ \n",
        "                 \"'\" + faker.building_number() + \"', \" + str(random.randint(1, 5)) + \", \" + str(random.uniform( 0 , 10)) + \", \"\n",
        "                 \"'\" + str(faker.latitude()) + ' ' + str(faker.longitude()) + \"', \" \n",
        "                  + str(random.uniform(0 , 100)) + \", \" + str(random.randint(1, 50)) + \", \" + str(random.randint(1, 100)) +      \n",
        "        \");\")"
      ],
      "metadata": {
        "id": "dHppFiCC2EVP"
      },
      "execution_count": null,
      "outputs": []
    },
    {
      "cell_type": "code",
      "source": [
        "#bk.booking_history\n",
        "from datetime import datetime as dt\n",
        "\n",
        "year = [2020, 2021, 2019, 2017, 2018]\n",
        "month = [1, 2, 3, 4, 5, 6,7, 8, 9, 10, 11, 12]\n",
        "day = [1, 2, 3, 4, 5, 6, 7, 8, 9, 10, 11, 12, 13, 14, 15, 16, 17, 18, 19, 20]\n",
        "delta = [2, 5, 6, 7, 8]\n",
        "for i in range(50):\n",
        "  some= str(random.choice(year)) + '-' + str(random.choice(month)) + '-'\n",
        "  day1 = random.choice(day)\n",
        "  print(\"INSERT INTO bk.booking_history (check_in_date, check_out_date, user_id, hotel_id)\")\n",
        "  print(\"VALUES (\" + \"'\"+ some + str(day1) + \"', \" + \"'\" + some + str(day1 + random.choice(delta)) + \"', \" \n",
        "                 + str(random.randint(1, 103)) + \", \" + str(random.randint(1, 50))\n",
        "          + \");\")"
      ],
      "metadata": {
        "id": "viLrGYLlY_dj"
      },
      "execution_count": null,
      "outputs": []
    },
    {
      "cell_type": "code",
      "source": [
        "#bk.review\n",
        "for i in range(100):\n",
        "  location = random.randint(5, 10)\n",
        "  area_for_shopping = random.randint(5, 10)\n",
        "  purity= random.randint(5, 10)\n",
        "  price_quality_ratio= random.randint(5, 10)\n",
        "  facilities= random.randint(5, 10)\n",
        "  comfort= random.randint(5, 10)\n",
        "  staff= random.randint(2, 10)\n",
        "  free_wifi= random.randint(0, 10)\n",
        "  rating = (location + area_for_shopping + purity + price_quality_ratio + facilities + comfort + staff + free_wifi) / 8\n",
        "  description =\"'\" + faker.text(30) + \"'\"\n",
        "  user_id = random.randint(1, 103)\n",
        "  hotel_id = random.randint(1, 50)\n",
        "  print(\"INSERT INTO bk.review (location, area_for_shopping, purity, price_quality_ratio, facilities, comfort, staff, free_wifi, rating, description, user_id, hotel_id)\")\n",
        "  print(\"VALUES(\" + str(location) +\", \"  + str(area_for_shopping) +\", \"  + str(purity)+\", \" + str(price_quality_ratio)+\", \" + str(facilities)+\", \" \n",
        "        + str(comfort) +\", \" + str(staff) +\", \" + str(free_wifi)+\", \" + str(rating)+ \", \" + description + \", \" + str(user_id) +\", \" + str(hotel_id) + \n",
        "        \");\")"
      ],
      "metadata": {
        "id": "bBOOqGdlrNqM"
      },
      "execution_count": null,
      "outputs": []
    },
    {
      "cell_type": "code",
      "source": [
        "#bk.facilities_of_hotel\n",
        "for i in range(100):\n",
        "  hotel = str(random.randint(1, 50))\n",
        "  for j in range(5):\n",
        "    print(\"INSERT INTO bk.facilities_of_hotel (description, hotel_id, facilities_id)\")\n",
        "    print(\"VALUES(\" + \"'\" + faker.text(30) + \"', \" + hotel + \", \" + str(random.randint(1, 10)) + \");\")\n"
      ],
      "metadata": {
        "id": "CHr9OctJu_3b"
      },
      "execution_count": null,
      "outputs": []
    },
    {
      "cell_type": "code",
      "source": [
        "#bk.service\n",
        "for i in range(20):\n",
        "  hotel = str(random.randint(1, 50))\n",
        "  for j in range(5):\n",
        "    print(\"INSERT INTO bk.service (price, description, hotel_id, service_id)\")\n",
        "    print(\"VALUES(\"  + str(random.randint(1, 100)) +\", \"+\"'\"+ faker.text(30) + \"', \" + hotel + \", \" + str(random.randint(1, 7)) + \");\")\n"
      ],
      "metadata": {
        "id": "Drur9X2Ly-FB"
      },
      "execution_count": null,
      "outputs": []
    },
    {
      "cell_type": "code",
      "source": [
        "#bk.room\n",
        "for i in range(1, 51):\n",
        "  n = random.randint(1, 4)\n",
        "  for j in range(1, n):\n",
        "    k = random.randint(1, 4)\n",
        "    for c in range(1, k):\n",
        "      print(\"INSERT INTO bk.room (level, number_of_room, number_of_seats, standard_price, hotel_id)\")\n",
        "      print(\"VALUES(\"+ str(j) +\", \" + \"'\" + str(c)+ \"', \" + str(random.randint(1, 4))+ \", \"+ str(random.randint(1, 100))+\", \" + str(i) +\");\")"
      ],
      "metadata": {
        "id": "D6tIWpIr1Hd5"
      },
      "execution_count": null,
      "outputs": []
    },
    {
      "cell_type": "code",
      "source": [
        "#bk.facilities_of_room\n",
        "for i in range(100):\n",
        "  room = str(random.randint(1, 50))\n",
        "  for j in range(5):\n",
        "    print(\"INSERT INTO bk.facilities_of_room (description, room_id, type_facilities_of_room_id)\")\n",
        "    print(\"VALUES(\" + \"'\" + faker.text(30) + \"', \" + room + \", \" + str(random.randint(1, 10)) + \");\")\n"
      ],
      "metadata": {
        "id": "ayIJPIJV5c1r"
      },
      "execution_count": null,
      "outputs": []
    },
    {
      "cell_type": "code",
      "source": [
        "#bk.reserved\n",
        "year = [2023, 2022]\n",
        "month = [1, 2, 3, 4, 5, 6,7, 8, 9, 10, 11, 12]\n",
        "day = [1, 2, 3, 4, 5, 6, 7, 8, 9, 10, 11, 12, 13, 14, 15, 16, 17, 18, 19, 20]\n",
        "delta = [2, 5, 6, 7, 8]\n",
        "for i in range(50):\n",
        "  some= str(random.choice(year)) + '-' + str(random.choice(month)) + '-'\n",
        "  day1 = random.choice(day)\n",
        "  print(\"INSERT INTO bk.reserved (check_in_date, check_out_date, sale, flag, room_id ,user_id)\")\n",
        "  print(\"VALUES (\" + \"'\"+ some + str(day1) + \"', \" + \"'\" + some + str(day1 + random.choice(delta)) + \"', \" \n",
        "                  + str(random.randint(0, 99)) + \", \" + random.choice([\"TRUE\", \"FALSE\"]) + \", \" + str(random.randint(1, 122)) + \", \" + str(random.randint(1, 103))\n",
        "          + \");\")"
      ],
      "metadata": {
        "id": "He3TdbDO6a51"
      },
      "execution_count": null,
      "outputs": []
    }
  ]
}