{
  "nbformat": 4,
  "nbformat_minor": 0,
  "metadata": {
    "colab": {
      "provenance": [],
      "collapsed_sections": []
    },
    "kernelspec": {
      "name": "python3",
      "display_name": "Python 3"
    },
    "language_info": {
      "name": "python"
    }
  },
  "cells": [
    {
      "cell_type": "code",
      "source": [
        "!pip install faker"
      ],
      "metadata": {
        "colab": {
          "base_uri": "https://localhost:8080/"
        },
        "id": "dDnqTnygHCgg",
        "outputId": "c5f5789d-d179-43b0-ab0f-51a60c4beda7"
      },
      "execution_count": null,
      "outputs": [
        {
          "output_type": "stream",
          "name": "stdout",
          "text": [
            "Looking in indexes: https://pypi.org/simple, https://us-python.pkg.dev/colab-wheels/public/simple/\n",
            "Requirement already satisfied: faker in /usr/local/lib/python3.7/dist-packages (15.3.1)\n",
            "Requirement already satisfied: typing-extensions>=3.10.0.1 in /usr/local/lib/python3.7/dist-packages (from faker) (4.1.1)\n",
            "Requirement already satisfied: python-dateutil>=2.4 in /usr/local/lib/python3.7/dist-packages (from faker) (2.8.2)\n",
            "Requirement already satisfied: six>=1.5 in /usr/local/lib/python3.7/dist-packages (from python-dateutil>=2.4->faker) (1.15.0)\n"
          ]
        }
      ]
    },
    {
      "cell_type": "code",
      "execution_count": null,
      "metadata": {
        "id": "DIqe4-a6Wlcy"
      },
      "outputs": [],
      "source": [
        "from faker import Faker\n",
        "import numpy as np\n",
        "faker = Faker()"
      ]
    },
    {
      "cell_type": "code",
      "source": [
        "#bk.user\n",
        "for i in range(100):\n",
        "  print(\"INSERT INTO bk.user ( name, second_name, gender, mail, username, password, date_of_birth)\")\n",
        "  print(\"VALUES(\", \"'\"+faker.first_name()+\"'\",',',\"'\"+faker.last_name()+\"'\",',', \"'\"+(np.random.choice([\"male\", \"female\"], p=[0.5, 0.5]))+\"'\",',',\"'\"+faker.email()+\"'\",\n",
        "        ',',\"'\"+faker.user_name()+\"'\", ',',\n",
        "        \"'\"+faker.password()+\"'\",',' \"'\"+str(faker.date_of_birth(minimum_age = 19))+\"'\",\");\")\n",
        "  print()"
      ],
      "metadata": {
        "id": "gkd1-OM3bh0K"
      },
      "execution_count": null,
      "outputs": []
    },
    {
      "cell_type": "code",
      "source": [
        "#bc.country\n",
        "for i in range(40):\n",
        "  print(\"INSERT INTO bk.country ( name)\")\n",
        "  print(\"VALUES( '\" + faker.country() + \"'\"+\");\")"
      ],
      "metadata": {
        "id": "TfZJq_zurrsM"
      },
      "execution_count": null,
      "outputs": []
    },
    {
      "cell_type": "code",
      "source": [
        "#bk.city\n",
        "import random\n",
        "for i in range(100):\n",
        "  print(\"INSERT INTO bk.city (name, country_id)\")\n",
        "  print(\"VALUES( '\" + faker.city() + \"'\"+\", \"+ str(random.randint(1, 40))+\");\")"
      ],
      "metadata": {
        "id": "-jxdB1-btM_Q"
      },
      "execution_count": null,
      "outputs": []
    },
    {
      "cell_type": "code",
      "source": [
        "#bk.owner\n",
        "for i in range(50):\n",
        "  print(\"INSERT INTO bk.owner ( name, second_name, gender, mail, username, password, date_of_birth)\")\n",
        "  print(\"VALUES(\", \"'\"+faker.first_name()+\"'\",',',\"'\"+faker.last_name()+\"'\",',', \"'\"+(np.random.choice([\"male\", \"female\"], p=[0.5, 0.5]))+\"'\",',',\"'\"+fake.email()+\"'\",\n",
        "        ',',\"'\"+faker.user_name()+\"'\", ',',\n",
        "        \"'\"+faker.password()+\"'\",',' \"'\"+str(faker.date_of_birth(minimum_age = 19))+\"'\",\");\")\n"
      ],
      "metadata": {
        "id": "Jkl2yWVwugbB"
      },
      "execution_count": null,
      "outputs": []
    },
    {
      "cell_type": "code",
      "source": [
        "#bk.type_facilities_of_hotel\n",
        "mas = [\"'free parking'\", \"'swimming pool'\", \"'sauna'\", \"'fitness'\", \"'medicine'\", \"'animation'\", \"'free transfer from airport'\"]\n",
        "for i in mas:\n",
        "  print(\"INSERT INTO bk.type_facilities_of_hotel (name)\")\n",
        "  print(\"VALUES(\" + i +\");\")"
      ],
      "metadata": {
        "id": "YsPm5oXdu85a"
      },
      "execution_count": null,
      "outputs": []
    },
    {
      "cell_type": "code",
      "source": [
        "#bk.type_service\n",
        "mas = [\"'rent transport'\", \"'massage'\", \"'rent boosted wifi'\", \"'fitness coach'\", \"'rent of banquet halls'\", \"'sightseeing tour'\", \"'beauty and wellness treatments'\"]\n",
        "for i in mas:\n",
        "  print(\"INSERT INTO bk.type_service (name)\")\n",
        "  print(\"VALUES(\" + i +\");\")"
      ],
      "metadata": {
        "id": "OJRGvFcHy3JA"
      },
      "execution_count": null,
      "outputs": []
    },
    {
      "cell_type": "code",
      "source": [
        "#bk.type_facilities_of_room\n",
        "mas = [\"'daily housekeeping'\", \"'TV'\", \"'balcon'\", \"'shower'\", \"'double bed'\", \"'single bed'\", \"'set of towels'\", \"'wash set'\",\n",
        "       \"'cupboard'\", \"'safe'\"]\n",
        "for i in mas:\n",
        "  print(\"INSERT INTO bk.type_facilities_of_room (name)\")\n",
        "  print(\"VALUES(\" + i +\");\")"
      ],
      "metadata": {
        "id": "4k_TYS9q0jVN"
      },
      "execution_count": null,
      "outputs": []
    },
    {
      "cell_type": "code",
      "source": [
        "#bk.hotel\n",
        "import random\n",
        "mas = [\"Resort & Spa\", \"Hotel\", \"Supreme Palace Hotel\"]\n",
        "for i in range(50):\n",
        "  print(\"INSERT INTO bk.hotel (name, region, street, house, number_of_stars, rating, geolocation, need_for_previous_payment, owner_id, city_id)\")\n",
        "  print(\"VALUES (\" + \"'\" + faker.first_name()+ ' ' + (np.random.choice(mas)) + \"' ,\" +\n",
        "                 \"'\"  + faker.administrative_unit()  + \"', \" + \"'\" + faker.street_name() + \"', \"+ \n",
        "                 \"'\" + faker.building_number() + \"', \" + str(random.randint(1, 5)) + \", \" + str(random.uniform( 0 , 10)) + \", \"\n",
        "                 \"'\" + str(faker.latitude()) + ' ' + str(faker.longitude()) + \"', \" \n",
        "                  + str(random.uniform(0 , 100)) + \", \" + str(random.randint(1, 50)) + \", \" + str(random.randint(1, 100)) +      \n",
        "        \");\")"
      ],
      "metadata": {
        "id": "dHppFiCC2EVP"
      },
      "execution_count": null,
      "outputs": []
    },
    {
      "cell_type": "code",
      "source": [
        "#bk.booking_history\n",
        "from datetime import datetime as dt\n",
        "\n",
        "year = [2020, 2021, 2019, 2017, 2018]\n",
        "month = [1, 2, 3, 4, 5, 6,7, 8, 9, 10, 11, 12]\n",
        "day = [1, 2, 3, 4, 5, 6, 7, 8, 9, 10, 11, 12, 13, 14, 15, 16, 17, 18, 19, 20]\n",
        "delta = [2, 5, 6, 7, 8]\n",
        "for i in range(50):\n",
        "  some= str(random.choice(year)) + '-' + str(random.choice(month)) + '-'\n",
        "  day1 = random.choice(day)\n",
        "  print(\"INSERT INTO bk.booking_history (check_in_date, check_out_date, user_id, hotel_id)\")\n",
        "  print(\"VALUES (\" + \"'\"+ some + str(day1) + \"', \" + \"'\" + some + str(day1 + random.choice(delta)) + \"', \" \n",
        "                 + str(random.randint(1, 103)) + \", \" + str(random.randint(1, 50))\n",
        "          + \");\")"
      ],
      "metadata": {
        "id": "viLrGYLlY_dj"
      },
      "execution_count": null,
      "outputs": []
    },
    {
      "cell_type": "code",
      "source": [
        "#bk.review\n",
        "for i in range(100):\n",
        "  location = random.randint(5, 10)\n",
        "  area_for_shopping = random.randint(5, 10)\n",
        "  purity= random.randint(5, 10)\n",
        "  price_quality_ratio= random.randint(5, 10)\n",
        "  facilities= random.randint(5, 10)\n",
        "  comfort= random.randint(5, 10)\n",
        "  staff= random.randint(2, 10)\n",
        "  free_wifi= random.randint(0, 10)\n",
        "  rating = (location + area_for_shopping + purity + price_quality_ratio + facilities + comfort + staff + free_wifi) / 8\n",
        "  description =\"'\" + faker.text(30) + \"'\"\n",
        "  user_id = random.randint(1, 103)\n",
        "  hotel_id = random.randint(1, 50)\n",
        "  print(\"INSERT INTO bk.review (location, area_for_shopping, purity, price_quality_ratio, facilities, comfort, staff, free_wifi, rating, description, user_id, hotel_id)\")\n",
        "  print(\"VALUES(\" + str(location) +\", \"  + str(area_for_shopping) +\", \"  + str(purity)+\", \" + str(price_quality_ratio)+\", \" + str(facilities)+\", \" \n",
        "        + str(comfort) +\", \" + str(staff) +\", \" + str(free_wifi)+\", \" + str(rating)+ \", \" + description + \", \" + str(user_id) +\", \" + str(hotel_id) + \n",
        "        \");\")"
      ],
      "metadata": {
        "id": "bBOOqGdlrNqM",
        "colab": {
          "base_uri": "https://localhost:8080/"
        },
        "outputId": "8eeeeeb2-a209-4fe3-f434-2be0d6dc9b5e"
      },
      "execution_count": null,
      "outputs": [
        {
          "output_type": "stream",
          "name": "stdout",
          "text": [
            "INSERT INTO bk.review (location, area_for_shopping, purity, price_quality_ratio, facilities, comfort, staff, free_wifi, rating, description, user_id, hotel_id)\n",
            "VALUES(9, 8, 6, 5, 8, 5, 7, 0, 6.0, 'War benefit chance hear rate.', 77, 5);\n",
            "INSERT INTO bk.review (location, area_for_shopping, purity, price_quality_ratio, facilities, comfort, staff, free_wifi, rating, description, user_id, hotel_id)\n",
            "VALUES(5, 9, 5, 5, 8, 5, 7, 7, 6.375, 'Challenge rate rule.', 91, 6);\n",
            "INSERT INTO bk.review (location, area_for_shopping, purity, price_quality_ratio, facilities, comfort, staff, free_wifi, rating, description, user_id, hotel_id)\n",
            "VALUES(9, 7, 5, 8, 8, 8, 6, 1, 6.5, 'Which very provide draw star.', 56, 45);\n",
            "INSERT INTO bk.review (location, area_for_shopping, purity, price_quality_ratio, facilities, comfort, staff, free_wifi, rating, description, user_id, hotel_id)\n",
            "VALUES(5, 10, 6, 7, 6, 9, 6, 5, 6.75, 'Worker song manage concern.', 39, 10);\n",
            "INSERT INTO bk.review (location, area_for_shopping, purity, price_quality_ratio, facilities, comfort, staff, free_wifi, rating, description, user_id, hotel_id)\n",
            "VALUES(7, 8, 10, 6, 7, 7, 10, 9, 8.0, 'Miss color work both.', 100, 14);\n",
            "INSERT INTO bk.review (location, area_for_shopping, purity, price_quality_ratio, facilities, comfort, staff, free_wifi, rating, description, user_id, hotel_id)\n",
            "VALUES(6, 5, 8, 5, 8, 5, 9, 7, 6.625, 'Write who some coach.', 95, 31);\n",
            "INSERT INTO bk.review (location, area_for_shopping, purity, price_quality_ratio, facilities, comfort, staff, free_wifi, rating, description, user_id, hotel_id)\n",
            "VALUES(10, 9, 9, 6, 9, 5, 3, 3, 6.75, 'Enough growth concern.', 65, 42);\n",
            "INSERT INTO bk.review (location, area_for_shopping, purity, price_quality_ratio, facilities, comfort, staff, free_wifi, rating, description, user_id, hotel_id)\n",
            "VALUES(7, 7, 5, 9, 7, 7, 6, 5, 6.625, 'Environment mouth history.', 66, 3);\n",
            "INSERT INTO bk.review (location, area_for_shopping, purity, price_quality_ratio, facilities, comfort, staff, free_wifi, rating, description, user_id, hotel_id)\n",
            "VALUES(7, 10, 10, 6, 10, 6, 4, 9, 7.75, 'Himself two kitchen word.', 50, 29);\n",
            "INSERT INTO bk.review (location, area_for_shopping, purity, price_quality_ratio, facilities, comfort, staff, free_wifi, rating, description, user_id, hotel_id)\n",
            "VALUES(10, 5, 6, 6, 9, 9, 4, 0, 6.125, 'Such moment sure stuff.', 48, 8);\n",
            "INSERT INTO bk.review (location, area_for_shopping, purity, price_quality_ratio, facilities, comfort, staff, free_wifi, rating, description, user_id, hotel_id)\n",
            "VALUES(7, 5, 5, 6, 8, 8, 7, 9, 6.875, 'Stock traditional drug range.', 57, 44);\n",
            "INSERT INTO bk.review (location, area_for_shopping, purity, price_quality_ratio, facilities, comfort, staff, free_wifi, rating, description, user_id, hotel_id)\n",
            "VALUES(9, 7, 10, 10, 10, 10, 8, 9, 9.125, 'Far produce somebody eye.', 57, 30);\n",
            "INSERT INTO bk.review (location, area_for_shopping, purity, price_quality_ratio, facilities, comfort, staff, free_wifi, rating, description, user_id, hotel_id)\n",
            "VALUES(9, 8, 9, 6, 7, 8, 4, 10, 7.625, 'Strategy start chair.', 61, 2);\n",
            "INSERT INTO bk.review (location, area_for_shopping, purity, price_quality_ratio, facilities, comfort, staff, free_wifi, rating, description, user_id, hotel_id)\n",
            "VALUES(10, 9, 8, 7, 10, 8, 5, 8, 8.125, 'Gun bar weight who sit TV.', 25, 19);\n",
            "INSERT INTO bk.review (location, area_for_shopping, purity, price_quality_ratio, facilities, comfort, staff, free_wifi, rating, description, user_id, hotel_id)\n",
            "VALUES(5, 10, 6, 5, 5, 10, 8, 0, 6.125, 'Ball only above like rise.', 81, 21);\n",
            "INSERT INTO bk.review (location, area_for_shopping, purity, price_quality_ratio, facilities, comfort, staff, free_wifi, rating, description, user_id, hotel_id)\n",
            "VALUES(10, 7, 7, 10, 8, 7, 10, 1, 7.5, 'Develop white only fund.', 68, 9);\n",
            "INSERT INTO bk.review (location, area_for_shopping, purity, price_quality_ratio, facilities, comfort, staff, free_wifi, rating, description, user_id, hotel_id)\n",
            "VALUES(9, 5, 10, 10, 9, 6, 5, 5, 7.375, 'Quite night about.', 56, 39);\n",
            "INSERT INTO bk.review (location, area_for_shopping, purity, price_quality_ratio, facilities, comfort, staff, free_wifi, rating, description, user_id, hotel_id)\n",
            "VALUES(9, 7, 10, 6, 6, 8, 7, 3, 7.0, 'Civil book decade student.', 86, 19);\n",
            "INSERT INTO bk.review (location, area_for_shopping, purity, price_quality_ratio, facilities, comfort, staff, free_wifi, rating, description, user_id, hotel_id)\n",
            "VALUES(9, 10, 8, 7, 7, 9, 4, 3, 7.125, 'Hundred body score.', 52, 5);\n",
            "INSERT INTO bk.review (location, area_for_shopping, purity, price_quality_ratio, facilities, comfort, staff, free_wifi, rating, description, user_id, hotel_id)\n",
            "VALUES(6, 7, 10, 7, 8, 9, 3, 2, 6.5, 'Soldier week fill threat.', 34, 31);\n",
            "INSERT INTO bk.review (location, area_for_shopping, purity, price_quality_ratio, facilities, comfort, staff, free_wifi, rating, description, user_id, hotel_id)\n",
            "VALUES(7, 6, 10, 8, 5, 6, 4, 1, 5.875, 'Common down food because.', 13, 15);\n",
            "INSERT INTO bk.review (location, area_for_shopping, purity, price_quality_ratio, facilities, comfort, staff, free_wifi, rating, description, user_id, hotel_id)\n",
            "VALUES(10, 10, 5, 9, 10, 9, 10, 1, 8.0, 'Impact seven decide training.', 1, 13);\n",
            "INSERT INTO bk.review (location, area_for_shopping, purity, price_quality_ratio, facilities, comfort, staff, free_wifi, rating, description, user_id, hotel_id)\n",
            "VALUES(6, 8, 5, 7, 7, 10, 8, 6, 7.125, 'When along fish enough.', 88, 46);\n",
            "INSERT INTO bk.review (location, area_for_shopping, purity, price_quality_ratio, facilities, comfort, staff, free_wifi, rating, description, user_id, hotel_id)\n",
            "VALUES(8, 10, 10, 5, 8, 8, 10, 5, 8.0, 'Keep loss respond manager.', 8, 38);\n",
            "INSERT INTO bk.review (location, area_for_shopping, purity, price_quality_ratio, facilities, comfort, staff, free_wifi, rating, description, user_id, hotel_id)\n",
            "VALUES(10, 8, 6, 5, 8, 7, 5, 2, 6.375, 'Policy hotel sort serve.', 40, 21);\n",
            "INSERT INTO bk.review (location, area_for_shopping, purity, price_quality_ratio, facilities, comfort, staff, free_wifi, rating, description, user_id, hotel_id)\n",
            "VALUES(9, 5, 6, 5, 10, 6, 4, 7, 6.5, 'Or several low open moment.', 36, 6);\n",
            "INSERT INTO bk.review (location, area_for_shopping, purity, price_quality_ratio, facilities, comfort, staff, free_wifi, rating, description, user_id, hotel_id)\n",
            "VALUES(8, 9, 8, 7, 10, 6, 7, 10, 8.125, 'Day security purpose skin.', 71, 1);\n",
            "INSERT INTO bk.review (location, area_for_shopping, purity, price_quality_ratio, facilities, comfort, staff, free_wifi, rating, description, user_id, hotel_id)\n",
            "VALUES(5, 6, 5, 8, 5, 8, 10, 10, 7.125, 'Energy ask entire put.', 25, 17);\n",
            "INSERT INTO bk.review (location, area_for_shopping, purity, price_quality_ratio, facilities, comfort, staff, free_wifi, rating, description, user_id, hotel_id)\n",
            "VALUES(10, 5, 9, 9, 8, 10, 2, 7, 7.5, 'Capital rate may yet body.', 90, 7);\n",
            "INSERT INTO bk.review (location, area_for_shopping, purity, price_quality_ratio, facilities, comfort, staff, free_wifi, rating, description, user_id, hotel_id)\n",
            "VALUES(6, 8, 9, 7, 7, 7, 5, 9, 7.25, 'Simply scientist and place.', 52, 28);\n",
            "INSERT INTO bk.review (location, area_for_shopping, purity, price_quality_ratio, facilities, comfort, staff, free_wifi, rating, description, user_id, hotel_id)\n",
            "VALUES(7, 8, 7, 7, 8, 6, 9, 7, 7.375, 'Power fill talk economic.', 32, 16);\n",
            "INSERT INTO bk.review (location, area_for_shopping, purity, price_quality_ratio, facilities, comfort, staff, free_wifi, rating, description, user_id, hotel_id)\n",
            "VALUES(10, 7, 5, 5, 9, 7, 5, 0, 6.0, 'People her require live tree.', 9, 20);\n",
            "INSERT INTO bk.review (location, area_for_shopping, purity, price_quality_ratio, facilities, comfort, staff, free_wifi, rating, description, user_id, hotel_id)\n",
            "VALUES(8, 5, 9, 6, 6, 10, 7, 5, 7.0, 'Writer lead each around.', 6, 49);\n",
            "INSERT INTO bk.review (location, area_for_shopping, purity, price_quality_ratio, facilities, comfort, staff, free_wifi, rating, description, user_id, hotel_id)\n",
            "VALUES(7, 6, 8, 8, 10, 5, 9, 9, 7.75, 'Spend set left team myself.', 19, 43);\n",
            "INSERT INTO bk.review (location, area_for_shopping, purity, price_quality_ratio, facilities, comfort, staff, free_wifi, rating, description, user_id, hotel_id)\n",
            "VALUES(6, 7, 9, 7, 6, 5, 3, 0, 5.375, 'Owner short special of.', 93, 34);\n",
            "INSERT INTO bk.review (location, area_for_shopping, purity, price_quality_ratio, facilities, comfort, staff, free_wifi, rating, description, user_id, hotel_id)\n",
            "VALUES(9, 10, 5, 10, 7, 8, 3, 6, 7.25, 'Into city itself morning.', 65, 49);\n",
            "INSERT INTO bk.review (location, area_for_shopping, purity, price_quality_ratio, facilities, comfort, staff, free_wifi, rating, description, user_id, hotel_id)\n",
            "VALUES(7, 10, 6, 8, 7, 6, 8, 4, 7.0, 'Television son sure yourself.', 4, 11);\n",
            "INSERT INTO bk.review (location, area_for_shopping, purity, price_quality_ratio, facilities, comfort, staff, free_wifi, rating, description, user_id, hotel_id)\n",
            "VALUES(10, 7, 9, 9, 7, 5, 8, 10, 8.125, 'Very picture place appear.', 2, 50);\n",
            "INSERT INTO bk.review (location, area_for_shopping, purity, price_quality_ratio, facilities, comfort, staff, free_wifi, rating, description, user_id, hotel_id)\n",
            "VALUES(10, 8, 8, 6, 8, 6, 7, 10, 7.875, 'Maintain after suggest.', 39, 50);\n",
            "INSERT INTO bk.review (location, area_for_shopping, purity, price_quality_ratio, facilities, comfort, staff, free_wifi, rating, description, user_id, hotel_id)\n",
            "VALUES(9, 6, 8, 5, 5, 10, 3, 5, 6.375, 'Impact offer compare lose.', 6, 30);\n",
            "INSERT INTO bk.review (location, area_for_shopping, purity, price_quality_ratio, facilities, comfort, staff, free_wifi, rating, description, user_id, hotel_id)\n",
            "VALUES(9, 6, 10, 8, 9, 9, 9, 3, 7.875, 'When amount defense week.', 83, 2);\n",
            "INSERT INTO bk.review (location, area_for_shopping, purity, price_quality_ratio, facilities, comfort, staff, free_wifi, rating, description, user_id, hotel_id)\n",
            "VALUES(8, 9, 9, 10, 7, 5, 7, 4, 7.375, 'Page of method music.', 17, 32);\n",
            "INSERT INTO bk.review (location, area_for_shopping, purity, price_quality_ratio, facilities, comfort, staff, free_wifi, rating, description, user_id, hotel_id)\n",
            "VALUES(9, 5, 9, 6, 5, 7, 4, 3, 6.0, 'Carry give politics worker.', 20, 24);\n",
            "INSERT INTO bk.review (location, area_for_shopping, purity, price_quality_ratio, facilities, comfort, staff, free_wifi, rating, description, user_id, hotel_id)\n",
            "VALUES(10, 5, 9, 10, 6, 8, 9, 1, 7.25, 'Before wall by oil play.', 100, 14);\n",
            "INSERT INTO bk.review (location, area_for_shopping, purity, price_quality_ratio, facilities, comfort, staff, free_wifi, rating, description, user_id, hotel_id)\n",
            "VALUES(7, 8, 7, 6, 6, 5, 2, 10, 6.375, 'Magazine term prove.', 55, 33);\n",
            "INSERT INTO bk.review (location, area_for_shopping, purity, price_quality_ratio, facilities, comfort, staff, free_wifi, rating, description, user_id, hotel_id)\n",
            "VALUES(7, 7, 6, 10, 7, 8, 5, 4, 6.75, 'Box hotel order either.', 55, 27);\n",
            "INSERT INTO bk.review (location, area_for_shopping, purity, price_quality_ratio, facilities, comfort, staff, free_wifi, rating, description, user_id, hotel_id)\n",
            "VALUES(7, 10, 8, 7, 5, 10, 8, 0, 6.875, 'Use agree half.', 21, 5);\n",
            "INSERT INTO bk.review (location, area_for_shopping, purity, price_quality_ratio, facilities, comfort, staff, free_wifi, rating, description, user_id, hotel_id)\n",
            "VALUES(7, 8, 9, 5, 9, 9, 7, 5, 7.375, 'Eat guy why property product.', 101, 3);\n",
            "INSERT INTO bk.review (location, area_for_shopping, purity, price_quality_ratio, facilities, comfort, staff, free_wifi, rating, description, user_id, hotel_id)\n",
            "VALUES(7, 9, 9, 5, 10, 6, 6, 2, 6.75, 'Several bad former see money.', 91, 17);\n",
            "INSERT INTO bk.review (location, area_for_shopping, purity, price_quality_ratio, facilities, comfort, staff, free_wifi, rating, description, user_id, hotel_id)\n",
            "VALUES(6, 6, 8, 10, 8, 9, 9, 10, 8.25, 'Six stock TV memory practice.', 34, 41);\n",
            "INSERT INTO bk.review (location, area_for_shopping, purity, price_quality_ratio, facilities, comfort, staff, free_wifi, rating, description, user_id, hotel_id)\n",
            "VALUES(7, 5, 5, 10, 10, 5, 7, 8, 7.125, 'Season represent then social.', 98, 24);\n",
            "INSERT INTO bk.review (location, area_for_shopping, purity, price_quality_ratio, facilities, comfort, staff, free_wifi, rating, description, user_id, hotel_id)\n",
            "VALUES(6, 8, 9, 5, 9, 5, 9, 1, 6.5, 'Conference bad conference.', 64, 37);\n",
            "INSERT INTO bk.review (location, area_for_shopping, purity, price_quality_ratio, facilities, comfort, staff, free_wifi, rating, description, user_id, hotel_id)\n",
            "VALUES(8, 8, 10, 7, 6, 10, 4, 4, 7.125, 'Cut do article race down.', 27, 30);\n",
            "INSERT INTO bk.review (location, area_for_shopping, purity, price_quality_ratio, facilities, comfort, staff, free_wifi, rating, description, user_id, hotel_id)\n",
            "VALUES(5, 7, 6, 7, 6, 7, 2, 6, 5.75, 'Effect of ask.', 68, 18);\n",
            "INSERT INTO bk.review (location, area_for_shopping, purity, price_quality_ratio, facilities, comfort, staff, free_wifi, rating, description, user_id, hotel_id)\n",
            "VALUES(8, 5, 7, 5, 5, 10, 10, 10, 7.5, 'Analysis board enter tax.', 19, 31);\n",
            "INSERT INTO bk.review (location, area_for_shopping, purity, price_quality_ratio, facilities, comfort, staff, free_wifi, rating, description, user_id, hotel_id)\n",
            "VALUES(6, 8, 7, 10, 8, 8, 2, 2, 6.375, 'Building particularly down.', 84, 9);\n",
            "INSERT INTO bk.review (location, area_for_shopping, purity, price_quality_ratio, facilities, comfort, staff, free_wifi, rating, description, user_id, hotel_id)\n",
            "VALUES(6, 8, 6, 8, 9, 8, 7, 9, 7.625, 'Move order knowledge.', 103, 4);\n",
            "INSERT INTO bk.review (location, area_for_shopping, purity, price_quality_ratio, facilities, comfort, staff, free_wifi, rating, description, user_id, hotel_id)\n",
            "VALUES(8, 7, 5, 6, 9, 10, 5, 6, 7.0, 'Arm rest expert city.', 37, 28);\n",
            "INSERT INTO bk.review (location, area_for_shopping, purity, price_quality_ratio, facilities, comfort, staff, free_wifi, rating, description, user_id, hotel_id)\n",
            "VALUES(5, 6, 6, 6, 6, 7, 5, 8, 6.125, 'Bank like record air.', 92, 3);\n",
            "INSERT INTO bk.review (location, area_for_shopping, purity, price_quality_ratio, facilities, comfort, staff, free_wifi, rating, description, user_id, hotel_id)\n",
            "VALUES(5, 7, 10, 5, 6, 9, 3, 10, 6.875, 'Stand work their three.', 78, 12);\n",
            "INSERT INTO bk.review (location, area_for_shopping, purity, price_quality_ratio, facilities, comfort, staff, free_wifi, rating, description, user_id, hotel_id)\n",
            "VALUES(9, 6, 10, 7, 8, 6, 6, 4, 7.0, 'Teacher stuff game six real.', 79, 18);\n",
            "INSERT INTO bk.review (location, area_for_shopping, purity, price_quality_ratio, facilities, comfort, staff, free_wifi, rating, description, user_id, hotel_id)\n",
            "VALUES(8, 5, 5, 7, 6, 7, 3, 4, 5.625, 'Although officer fall.', 3, 15);\n",
            "INSERT INTO bk.review (location, area_for_shopping, purity, price_quality_ratio, facilities, comfort, staff, free_wifi, rating, description, user_id, hotel_id)\n",
            "VALUES(10, 8, 10, 7, 6, 7, 4, 3, 6.875, 'Attack your interview.', 1, 29);\n",
            "INSERT INTO bk.review (location, area_for_shopping, purity, price_quality_ratio, facilities, comfort, staff, free_wifi, rating, description, user_id, hotel_id)\n",
            "VALUES(6, 8, 10, 5, 8, 8, 3, 9, 7.125, 'Glass involve cover room.', 4, 14);\n",
            "INSERT INTO bk.review (location, area_for_shopping, purity, price_quality_ratio, facilities, comfort, staff, free_wifi, rating, description, user_id, hotel_id)\n",
            "VALUES(8, 9, 5, 8, 6, 5, 2, 6, 6.125, 'Future positive no wear over.', 92, 33);\n",
            "INSERT INTO bk.review (location, area_for_shopping, purity, price_quality_ratio, facilities, comfort, staff, free_wifi, rating, description, user_id, hotel_id)\n",
            "VALUES(10, 9, 5, 7, 8, 9, 4, 7, 7.375, 'Operation pass style author.', 36, 11);\n",
            "INSERT INTO bk.review (location, area_for_shopping, purity, price_quality_ratio, facilities, comfort, staff, free_wifi, rating, description, user_id, hotel_id)\n",
            "VALUES(10, 5, 9, 6, 7, 7, 3, 6, 6.625, 'Fact argue who.', 68, 19);\n",
            "INSERT INTO bk.review (location, area_for_shopping, purity, price_quality_ratio, facilities, comfort, staff, free_wifi, rating, description, user_id, hotel_id)\n",
            "VALUES(5, 7, 7, 6, 9, 5, 10, 4, 6.625, 'Lawyer adult amount third.', 69, 2);\n",
            "INSERT INTO bk.review (location, area_for_shopping, purity, price_quality_ratio, facilities, comfort, staff, free_wifi, rating, description, user_id, hotel_id)\n",
            "VALUES(10, 10, 6, 8, 6, 8, 8, 10, 8.25, 'Firm article our edge.', 72, 45);\n",
            "INSERT INTO bk.review (location, area_for_shopping, purity, price_quality_ratio, facilities, comfort, staff, free_wifi, rating, description, user_id, hotel_id)\n",
            "VALUES(5, 10, 10, 8, 10, 9, 3, 5, 7.5, 'Short evidence any risk rise.', 97, 30);\n",
            "INSERT INTO bk.review (location, area_for_shopping, purity, price_quality_ratio, facilities, comfort, staff, free_wifi, rating, description, user_id, hotel_id)\n",
            "VALUES(10, 5, 10, 7, 6, 5, 8, 3, 6.75, 'Nature home seem scientist.', 35, 12);\n",
            "INSERT INTO bk.review (location, area_for_shopping, purity, price_quality_ratio, facilities, comfort, staff, free_wifi, rating, description, user_id, hotel_id)\n",
            "VALUES(5, 7, 9, 7, 5, 5, 4, 4, 5.75, 'Miss road network.', 63, 45);\n",
            "INSERT INTO bk.review (location, area_for_shopping, purity, price_quality_ratio, facilities, comfort, staff, free_wifi, rating, description, user_id, hotel_id)\n",
            "VALUES(6, 6, 6, 7, 5, 5, 9, 1, 5.625, 'About through instead.', 94, 46);\n",
            "INSERT INTO bk.review (location, area_for_shopping, purity, price_quality_ratio, facilities, comfort, staff, free_wifi, rating, description, user_id, hotel_id)\n",
            "VALUES(9, 9, 9, 9, 10, 8, 9, 0, 7.875, 'Begin nor begin bank realize.', 66, 44);\n",
            "INSERT INTO bk.review (location, area_for_shopping, purity, price_quality_ratio, facilities, comfort, staff, free_wifi, rating, description, user_id, hotel_id)\n",
            "VALUES(6, 10, 8, 10, 10, 10, 4, 5, 7.875, 'True degree many.', 99, 16);\n",
            "INSERT INTO bk.review (location, area_for_shopping, purity, price_quality_ratio, facilities, comfort, staff, free_wifi, rating, description, user_id, hotel_id)\n",
            "VALUES(5, 6, 10, 9, 7, 9, 2, 10, 7.25, 'Teach as for teach.', 3, 8);\n",
            "INSERT INTO bk.review (location, area_for_shopping, purity, price_quality_ratio, facilities, comfort, staff, free_wifi, rating, description, user_id, hotel_id)\n",
            "VALUES(5, 5, 10, 6, 8, 7, 7, 9, 7.125, 'Cost rise them letter.', 6, 34);\n",
            "INSERT INTO bk.review (location, area_for_shopping, purity, price_quality_ratio, facilities, comfort, staff, free_wifi, rating, description, user_id, hotel_id)\n",
            "VALUES(6, 7, 6, 9, 6, 5, 5, 8, 6.5, 'Arm director go push.', 95, 41);\n",
            "INSERT INTO bk.review (location, area_for_shopping, purity, price_quality_ratio, facilities, comfort, staff, free_wifi, rating, description, user_id, hotel_id)\n",
            "VALUES(7, 7, 6, 8, 9, 9, 9, 2, 7.125, 'Light by society head seem.', 80, 41);\n",
            "INSERT INTO bk.review (location, area_for_shopping, purity, price_quality_ratio, facilities, comfort, staff, free_wifi, rating, description, user_id, hotel_id)\n",
            "VALUES(5, 8, 8, 8, 10, 5, 9, 2, 6.875, 'Woman forward cell hundred.', 99, 11);\n",
            "INSERT INTO bk.review (location, area_for_shopping, purity, price_quality_ratio, facilities, comfort, staff, free_wifi, rating, description, user_id, hotel_id)\n",
            "VALUES(10, 10, 9, 9, 10, 10, 3, 1, 7.75, 'Feel throughout will.', 97, 44);\n",
            "INSERT INTO bk.review (location, area_for_shopping, purity, price_quality_ratio, facilities, comfort, staff, free_wifi, rating, description, user_id, hotel_id)\n",
            "VALUES(8, 7, 6, 8, 6, 6, 5, 6, 6.5, 'Meet sing special serve.', 20, 18);\n",
            "INSERT INTO bk.review (location, area_for_shopping, purity, price_quality_ratio, facilities, comfort, staff, free_wifi, rating, description, user_id, hotel_id)\n",
            "VALUES(9, 7, 8, 7, 7, 5, 7, 1, 6.375, 'Scene huge beyond every.', 81, 9);\n",
            "INSERT INTO bk.review (location, area_for_shopping, purity, price_quality_ratio, facilities, comfort, staff, free_wifi, rating, description, user_id, hotel_id)\n",
            "VALUES(7, 7, 6, 7, 5, 5, 5, 4, 5.75, 'Go time list business.', 9, 38);\n",
            "INSERT INTO bk.review (location, area_for_shopping, purity, price_quality_ratio, facilities, comfort, staff, free_wifi, rating, description, user_id, hotel_id)\n",
            "VALUES(10, 7, 8, 5, 10, 6, 3, 3, 6.5, 'Hit could raise city about.', 28, 3);\n",
            "INSERT INTO bk.review (location, area_for_shopping, purity, price_quality_ratio, facilities, comfort, staff, free_wifi, rating, description, user_id, hotel_id)\n",
            "VALUES(10, 9, 7, 10, 7, 8, 10, 2, 7.875, 'Speak meet rule decide.', 67, 21);\n",
            "INSERT INTO bk.review (location, area_for_shopping, purity, price_quality_ratio, facilities, comfort, staff, free_wifi, rating, description, user_id, hotel_id)\n",
            "VALUES(8, 9, 5, 9, 8, 8, 8, 0, 6.875, 'Boy exactly table.', 67, 23);\n",
            "INSERT INTO bk.review (location, area_for_shopping, purity, price_quality_ratio, facilities, comfort, staff, free_wifi, rating, description, user_id, hotel_id)\n",
            "VALUES(8, 10, 7, 8, 5, 9, 6, 10, 7.875, 'Admit realize whatever trip.', 56, 2);\n",
            "INSERT INTO bk.review (location, area_for_shopping, purity, price_quality_ratio, facilities, comfort, staff, free_wifi, rating, description, user_id, hotel_id)\n",
            "VALUES(5, 9, 7, 9, 9, 8, 4, 6, 7.125, 'Bag family first bar single.', 73, 19);\n",
            "INSERT INTO bk.review (location, area_for_shopping, purity, price_quality_ratio, facilities, comfort, staff, free_wifi, rating, description, user_id, hotel_id)\n",
            "VALUES(7, 7, 10, 10, 10, 9, 5, 1, 7.375, 'Might window surface thus.', 54, 47);\n",
            "INSERT INTO bk.review (location, area_for_shopping, purity, price_quality_ratio, facilities, comfort, staff, free_wifi, rating, description, user_id, hotel_id)\n",
            "VALUES(10, 5, 9, 6, 6, 5, 10, 4, 6.875, 'Total hospital eye medical.', 34, 26);\n",
            "INSERT INTO bk.review (location, area_for_shopping, purity, price_quality_ratio, facilities, comfort, staff, free_wifi, rating, description, user_id, hotel_id)\n",
            "VALUES(6, 7, 5, 5, 9, 5, 4, 6, 5.875, 'Century young sign yes.', 47, 25);\n",
            "INSERT INTO bk.review (location, area_for_shopping, purity, price_quality_ratio, facilities, comfort, staff, free_wifi, rating, description, user_id, hotel_id)\n",
            "VALUES(9, 9, 8, 9, 8, 10, 10, 10, 9.125, 'Happy reveal across.', 95, 38);\n",
            "INSERT INTO bk.review (location, area_for_shopping, purity, price_quality_ratio, facilities, comfort, staff, free_wifi, rating, description, user_id, hotel_id)\n",
            "VALUES(5, 9, 7, 8, 9, 10, 7, 0, 6.875, 'Tend leader somebody may bit.', 89, 42);\n",
            "INSERT INTO bk.review (location, area_for_shopping, purity, price_quality_ratio, facilities, comfort, staff, free_wifi, rating, description, user_id, hotel_id)\n",
            "VALUES(8, 8, 7, 6, 8, 10, 9, 5, 7.625, 'Until various year final.', 63, 33);\n",
            "INSERT INTO bk.review (location, area_for_shopping, purity, price_quality_ratio, facilities, comfort, staff, free_wifi, rating, description, user_id, hotel_id)\n",
            "VALUES(7, 10, 9, 7, 10, 8, 8, 5, 8.0, 'Step cell voice time force.', 70, 38);\n",
            "INSERT INTO bk.review (location, area_for_shopping, purity, price_quality_ratio, facilities, comfort, staff, free_wifi, rating, description, user_id, hotel_id)\n",
            "VALUES(6, 5, 8, 8, 9, 9, 10, 6, 7.625, 'Agree hit such conference.', 1, 3);\n",
            "INSERT INTO bk.review (location, area_for_shopping, purity, price_quality_ratio, facilities, comfort, staff, free_wifi, rating, description, user_id, hotel_id)\n",
            "VALUES(7, 6, 10, 10, 7, 8, 4, 10, 7.75, 'Four teach than official sit.', 13, 8);\n",
            "INSERT INTO bk.review (location, area_for_shopping, purity, price_quality_ratio, facilities, comfort, staff, free_wifi, rating, description, user_id, hotel_id)\n",
            "VALUES(6, 6, 8, 5, 7, 7, 3, 6, 6.0, 'Nature evidence guess people.', 50, 19);\n",
            "INSERT INTO bk.review (location, area_for_shopping, purity, price_quality_ratio, facilities, comfort, staff, free_wifi, rating, description, user_id, hotel_id)\n",
            "VALUES(7, 8, 5, 9, 6, 9, 2, 2, 6.0, 'Tonight environmental firm.', 6, 49);\n"
          ]
        }
      ]
    },
    {
      "cell_type": "code",
      "source": [
        "#bk.facilities_of_hotel\n",
        "for i in range(100):\n",
        "  hotel = str(random.randint(1, 50))\n",
        "  for j in range(5):\n",
        "    print(\"INSERT INTO bk.facilities_of_hotel (description, hotel_id, facilities_id)\")\n",
        "    print(\"VALUES(\" + \"'\" + faker.text(30) + \"', \" + hotel + \", \" + str(random.randint(1, 10)) + \");\")\n"
      ],
      "metadata": {
        "id": "CHr9OctJu_3b"
      },
      "execution_count": null,
      "outputs": []
    },
    {
      "cell_type": "code",
      "source": [
        "#bk.service\n",
        "for i in range(20):\n",
        "  hotel = str(random.randint(1, 50))\n",
        "  for j in range(5):\n",
        "    print(\"INSERT INTO bk.service (price, description, hotel_id, service_id)\")\n",
        "    print(\"VALUES(\"  + str(random.randint(1, 100)) +\", \"+\"'\"+ faker.text(30) + \"', \" + hotel + \", \" + str(random.randint(1, 7)) + \");\")\n"
      ],
      "metadata": {
        "id": "Drur9X2Ly-FB"
      },
      "execution_count": null,
      "outputs": []
    },
    {
      "cell_type": "code",
      "source": [
        "#bk.room\n",
        "for i in range(1, 51):\n",
        "  n = random.randint(1, 4)\n",
        "  for j in range(1, n):\n",
        "    k = random.randint(1, 4)\n",
        "    for c in range(1, k):\n",
        "      print(\"INSERT INTO bk.room (level, number_of_room, number_of_seats, standard_price, hotel_id)\")\n",
        "      print(\"VALUES(\"+ str(j) +\", \" + \"'\" + str(c)+ \"', \" + str(random.randint(1, 4))+ \", \"+ str(random.randint(1, 100))+\", \" + str(i) +\");\")"
      ],
      "metadata": {
        "id": "D6tIWpIr1Hd5"
      },
      "execution_count": null,
      "outputs": []
    },
    {
      "cell_type": "code",
      "source": [
        "#bk.facilities_of_room\n",
        "for i in range(100):\n",
        "  room = str(random.randint(1, 50))\n",
        "  for j in range(5):\n",
        "    print(\"INSERT INTO bk.facilities_of_room (description, room_id, type_facilities_of_room_id)\")\n",
        "    print(\"VALUES(\" + \"'\" + faker.text(30) + \"', \" + room + \", \" + str(random.randint(1, 10)) + \");\")\n"
      ],
      "metadata": {
        "id": "ayIJPIJV5c1r"
      },
      "execution_count": null,
      "outputs": []
    },
    {
      "cell_type": "code",
      "source": [
        "#bk.reserved\n",
        "year = [2023, 2022]\n",
        "month = [1, 2, 3, 4, 5, 6,7, 8, 9, 10, 11, 12]\n",
        "day = [1, 2, 3, 4, 5, 6, 7, 8, 9, 10, 11, 12, 13, 14, 15, 16, 17, 18, 19, 20]\n",
        "delta = [2, 5, 6, 7, 8]\n",
        "for i in range(50):\n",
        "  some= str(random.choice(year)) + '-' + str(random.choice(month)) + '-'\n",
        "  day1 = random.choice(day)\n",
        "  print(\"INSERT INTO bk.reserved (check_in_date, check_out_date, sale, flag, room_id ,user_id)\")\n",
        "  print(\"VALUES (\" + \"'\"+ some + str(day1) + \"', \" + \"'\" + some + str(day1 + random.choice(delta)) + \"', \" \n",
        "                  + str(random.randint(0, 99)) + \", \" + random.choice([\"TRUE\", \"FALSE\"]) + \", \" + str(random.randint(1, 122)) + \", \" + str(random.randint(1, 103))\n",
        "          + \");\")"
      ],
      "metadata": {
        "id": "He3TdbDO6a51"
      },
      "execution_count": null,
      "outputs": []
    }
  ]
}